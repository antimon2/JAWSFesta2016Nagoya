{
 "cells": [
  {
   "cell_type": "markdown",
   "metadata": {
    "slideshow": {
     "slide_type": "slide"
    }
   },
   "source": [
    "# 学ぼう機械学習！<br><small>簡単なデモと実践</small>"
   ]
  },
  {
   "cell_type": "markdown",
   "metadata": {},
   "source": [
    "<p style=\"text-align:center;font-size:150%;line-height:150%\">2016/10/22 JAWS Festa 東海道 2016 in 名古屋<br>後藤 俊介 ( @antimon2 )</p>"
   ]
  },
  {
   "cell_type": "markdown",
   "metadata": {
    "slideshow": {
     "slide_type": "slide"
    }
   },
   "source": [
    "# 自己紹介"
   ]
  },
  {
   "cell_type": "markdown",
   "metadata": {
    "slideshow": {
     "slide_type": "subslide"
    }
   },
   "source": [
    "## 自己紹介1"
   ]
  },
  {
   "cell_type": "markdown",
   "metadata": {},
   "source": [
    "+ 名前：後藤 俊介\n",
    "+ 所属：有限会社 来栖川電算\n",
    "+ 言語：Python, Julia, Ruby, Scala（勉強中）, …\n",
    "+ twitter: [@antimon2](https://twitter.com/antimon2 \"あんちもん2(@antimon2)さん | Twitter\")\n",
    "+ Facebook: [antimon2](https://www.facebook.com/antimon2 \"後藤 俊介\")\n",
    "+ GitHub: [antimon2](https://github.com/antimon2/ \"antimon2 (GOTOH Shunsuke)\")"
   ]
  },
  {
   "cell_type": "markdown",
   "metadata": {
    "slideshow": {
     "slide_type": "subslide"
    }
   },
   "source": [
    "## 自己紹介2"
   ]
  },
  {
   "cell_type": "markdown",
   "metadata": {},
   "source": [
    "+ 所属コミュニティ：\n",
    "    + **[機械学習 名古屋](http://machine-learning.connpass.com/)**（共同管理者の1人）\n",
    "    + [Python東海](http://connpass.com/series/292/)\n",
    "    + [Ruby東海](https://rubytokai.doorkeeper.jp/)\n",
    "    + [『FP in Scala』読書会@名古屋](http://fp-in-scala-nagoya.connpass.com/)\n",
    "    + …"
   ]
  },
  {
   "cell_type": "markdown",
   "metadata": {
    "slideshow": {
     "slide_type": "slide"
    }
   },
   "source": [
    "# 機械学習について"
   ]
  },
  {
   "cell_type": "markdown",
   "metadata": {
    "slideshow": {
     "slide_type": "subslide"
    }
   },
   "source": [
    "## 機械学習とは (1)"
   ]
  },
  {
   "cell_type": "markdown",
   "metadata": {},
   "source": [
    "> **機械学習**（きかいがくしゅう、英: machine learning）とは、人工知能における研究課題の一つで、人間が自然に行っている学習能力と同様の機能をコンピュータで実現しようとする技術・手法のことである。\n",
    "\n",
    "[Wikipedia:機械学習](https://ja.wikipedia.org/wiki/%E6%A9%9F%E6%A2%B0%E5%AD%A6%E7%BF%92) より。"
   ]
  },
  {
   "cell_type": "markdown",
   "metadata": {
    "slideshow": {
     "slide_type": "subslide"
    }
   },
   "source": [
    "## 機械学習とは (2)"
   ]
  },
  {
   "cell_type": "markdown",
   "metadata": {},
   "source": [
    "+ **人工知能** (Artificial Intelligence / AI) の一研究分野。\n",
    "+ **コンピュータビジョン** (Computer Vision / CV)、**パターン認識** (Pattern Recognition / PR)、**自然言語処理** (Natural Language Processing / NLP) 等、人工知能の他の研究分野と互いに関連あり。\n",
    "  + ↑の関連各分野に対して、**数学的基礎付け** の役割を果たしているのが「機械学習」、と言える。"
   ]
  },
  {
   "cell_type": "markdown",
   "metadata": {
    "slideshow": {
     "slide_type": "notes"
    }
   },
   "source": [
    "※少し堅い説明。"
   ]
  },
  {
   "cell_type": "markdown",
   "metadata": {
    "slideshow": {
     "slide_type": "subslide"
    }
   },
   "source": [
    "## 機械学習とは (3)"
   ]
  },
  {
   "cell_type": "markdown",
   "metadata": {},
   "source": [
    "+ コンピュータにデータを **学習** させて、それを元に色々な **仕事** をさせること。\n",
    "  + ポイントは、その主な **判断処理** をコンピュータ自身に考えさせる、ということ！"
   ]
  },
  {
   "cell_type": "markdown",
   "metadata": {
    "slideshow": {
     "slide_type": "notes"
    }
   },
   "source": [
    "※少しやらかい説明。"
   ]
  },
  {
   "cell_type": "markdown",
   "metadata": {
    "slideshow": {
     "slide_type": "subslide"
    }
   },
   "source": [
    "## 機械学習の大分類"
   ]
  },
  {
   "cell_type": "markdown",
   "metadata": {
    "slideshow": {
     "slide_type": "-"
    }
   },
   "source": [
    "+ **教師あり学習 (Supervised Learning)**\n",
    "    + 事前に与えた正解データから、未知のデータを推測・判別する\n",
    "+ **教師なし学習 (Unsupervised Learning)**\n",
    "    + 正解が不明なデータから、構造や特徴を導き出す\n",
    "+ **強化学習 (Reinforcement Learning)**\n",
    "    + 一連の行動を通じて報酬が最も多く得られるような方法を学習\n"
   ]
  },
  {
   "cell_type": "markdown",
   "metadata": {
    "slideshow": {
     "slide_type": "notes"
    }
   },
   "source": [
    "※他にも「半教師あり学習（ラベルありの事例となしの事例で行う学習）」等もあり。"
   ]
  },
  {
   "cell_type": "markdown",
   "metadata": {
    "slideshow": {
     "slide_type": "subslide"
    }
   },
   "source": [
    "## 教師あり学習"
   ]
  },
  {
   "cell_type": "markdown",
   "metadata": {
    "slideshow": {
     "slide_type": "-"
    }
   },
   "source": [
    "+ 主なアルゴリズム分類：\n",
    "    + 回帰 (Regression)\n",
    "    + 分類 (Classification)\n",
    "+ 主な手法：\n",
    "    + 線形回帰 / 重回帰 / ロジスティック回帰\n",
    "    + SVM (SVR / SVC)\n",
    "    + 決定木 / ランダムフォレスト\n",
    "    + ニューラルネットワーク etc.\n"
   ]
  },
  {
   "cell_type": "markdown",
   "metadata": {
    "slideshow": {
     "slide_type": "notes"
    }
   },
   "source": [
    "※先ほど言った「推測」が『回帰』、「判別」が『分類』にあたる。"
   ]
  },
  {
   "cell_type": "markdown",
   "metadata": {
    "slideshow": {
     "slide_type": "subslide"
    }
   },
   "source": [
    "## 教師なし学習"
   ]
  },
  {
   "cell_type": "markdown",
   "metadata": {
    "slideshow": {
     "slide_type": "-"
    }
   },
   "source": [
    "+ 主なアルゴリズム分類：\n",
    "    + クラスタリング (Clustering)\n",
    "    + 次元削減 (Dimensionality Reduction)\n",
    "+ 主な手法：\n",
    "    + K-means\n",
    "    + 混合ガウスモデル (GMM)\n",
    "    + 主成分分析 (PCA) / 独立成分分析 (ICA) etc.\n"
   ]
  },
  {
   "cell_type": "markdown",
   "metadata": {
    "slideshow": {
     "slide_type": "notes"
    }
   },
   "source": [
    "※異常検知、レコメンデーション は応用例。"
   ]
  },
  {
   "cell_type": "markdown",
   "metadata": {
    "slideshow": {
     "slide_type": "subslide"
    }
   },
   "source": [
    "[![ML Map by scikit-learn](http://scikit-learn.org/stable/_static/ml_map.png)](http://scikit-learn.org/stable/tutorial/machine_learning_map/)"
   ]
  },
  {
   "cell_type": "markdown",
   "metadata": {
    "slideshow": {
     "slide_type": "notes"
    }
   },
   "source": [
    "※この図は scikit-learn のドキュメントにある図。  \n",
    "  上半分が教師あり学習（regression/classification）、下半分が教師なし学習（clustering/dimensionality reduction）"
   ]
  },
  {
   "cell_type": "markdown",
   "metadata": {
    "slideshow": {
     "slide_type": "slide"
    }
   },
   "source": [
    "# 深層学習（Deep Learning）について"
   ]
  },
  {
   "cell_type": "markdown",
   "metadata": {
    "slideshow": {
     "slide_type": "subslide"
    }
   },
   "source": [
    "## Deep Learning とは (1)"
   ]
  },
  {
   "cell_type": "markdown",
   "metadata": {},
   "source": [
    "> **ディープラーニング**、**深層学習**（英: deep learning）とは、多層構造のニューラルネットワーク（ディープニューラルネットワーク、英: deep neural network）を用いた機械学習である\n",
    "\n",
    "[Wikipedia:ディープラーニング](https://ja.wikipedia.org/wiki/%E3%83%87%E3%82%A3%E3%83%BC%E3%83%97%E3%83%A9%E3%83%BC%E3%83%8B%E3%83%B3%E3%82%B0) より。"
   ]
  },
  {
   "cell_type": "markdown",
   "metadata": {
    "slideshow": {
     "slide_type": "notes"
    }
   },
   "source": [
    "※ディープニューラルネットワーク を DNN と略す。  \n",
    "　たまにこの DNN が Deep Learning を意味する略語としてバズってることがあるので注意！"
   ]
  },
  {
   "cell_type": "markdown",
   "metadata": {
    "slideshow": {
     "slide_type": "subslide"
    }
   },
   "source": [
    "## Deep Learning とは (2)"
   ]
  },
  {
   "cell_type": "markdown",
   "metadata": {},
   "source": [
    "+ 多層ニューラルネット（DNN）（もしくはそれに相当するもの）を用いた **機械学習**\n",
    "+ 時間とリソースを大量消費する代わりに、高い性能（分類・推測等）が期待できる。"
   ]
  },
  {
   "cell_type": "markdown",
   "metadata": {
    "slideshow": {
     "slide_type": "subslide"
    }
   },
   "source": [
    "## 従来手法と Deep Learning の主な違い"
   ]
  },
  {
   "cell_type": "markdown",
   "metadata": {},
   "source": [
    "<table class=\"cmp-tbl\">\n",
    "<tr>\n",
    "<th>&nbsp;</th><th>従来手法</th><th>Deep Learning</th>\n",
    "</tr>\n",
    "<tr>\n",
    "<th>（学習に使う）<br>特徴の定義</th><td>主に人間が定義する</td><td>学習データから抽出</td>\n",
    "</tr>\n",
    "<tr>\n",
    "<th>（学習にかかる）<br>時間・リソース</th><td>比較的少ない</td><td>大量消費する</td>\n",
    "</tr>\n",
    "<tr>\n",
    "<th>（学習結果の）<br>性能（傾向）</th><td>そこそこ…</td><td>わりと高い！</td>\n",
    "</tr>\n",
    "</table>"
   ]
  },
  {
   "cell_type": "markdown",
   "metadata": {
    "slideshow": {
     "slide_type": "notes"
    }
   },
   "source": [
    "※ここで言う「従来手法」は、DeepLearning 以外の代表的な推測・分類手法を指しています。  \n",
    "※またここで言う「性能」は、色々な評価指標（正解率、適合率、再現率 等）を総合したものを想定しています。  \n",
    "※従来手法でもがんばれば性能を上げることはできますし、DeepLearningでも下手すれば期待した性能が得られないことももちろんあります。"
   ]
  },
  {
   "cell_type": "markdown",
   "metadata": {
    "slideshow": {
     "slide_type": "subslide"
    }
   },
   "source": [
    "## Deep Learning が流行りだした理由"
   ]
  },
  {
   "cell_type": "markdown",
   "metadata": {},
   "source": [
    "+ 大量のデータ（ビッグデータ）で学習できるようになった。\n",
    "+ 効率の良い学習アルゴリズムがたくさん出てきた。\n",
    "+ コンピュータの性能向上や、**GPU** による速度向上。\n",
    "+ ネコ画像認識、チェス/将棋/囲碁で世界チャンピオンに勝利等、話題性。"
   ]
  },
  {
   "cell_type": "markdown",
   "metadata": {
    "slideshow": {
     "slide_type": "notes"
    }
   },
   "source": [
    "※GPUと言えば、AWS（P2インスタンス、G2インスタンス）等も利用できますね。"
   ]
  },
  {
   "cell_type": "markdown",
   "metadata": {
    "slideshow": {
     "slide_type": "subslide"
    }
   },
   "source": [
    "## Deep Learning の仲間たち"
   ]
  },
  {
   "cell_type": "markdown",
   "metadata": {},
   "source": [
    "+ 畳み込みニューラルネット（**CNN**）\n",
    "    + DNN の（一部の）層に「畳み込み層」を取り入れたもの。\n",
    "    + 主に画像認識のタスクで有用。\n",
    "+ 再帰型ニューラルネット（**RNN**）\n",
    "    + 内部に（有向）閉路を持つ DNN の総称。\n",
    "    + （短期）記憶を表現でき、時系列データ（自然言語、音声等）を扱える。"
   ]
  },
  {
   "cell_type": "markdown",
   "metadata": {
    "slideshow": {
     "slide_type": "notes"
    }
   },
   "source": [
    "※他にも 制限ボルツマンマシン（RBM） を利用した 深層信念ネットワーク（DBN）や深層ボルツマンマシン（DBM）等もあり。"
   ]
  },
  {
   "cell_type": "markdown",
   "metadata": {
    "slideshow": {
     "slide_type": "subslide"
    }
   },
   "source": [
    "## Deep Learning Frameworks"
   ]
  },
  {
   "cell_type": "markdown",
   "metadata": {},
   "source": [
    "![Framework Logos](./frameworklogos.png)"
   ]
  },
  {
   "cell_type": "markdown",
   "metadata": {
    "slideshow": {
     "slide_type": "notes"
    }
   },
   "source": [
    "※他にもありますが、代表的なところで。"
   ]
  },
  {
   "cell_type": "markdown",
   "metadata": {
    "slideshow": {
     "slide_type": "subslide"
    }
   },
   "source": [
    "### フレームワーク比較"
   ]
  },
  {
   "cell_type": "markdown",
   "metadata": {},
   "source": [
    "<table class=\"cmp-tbl\">\n",
    "<tr>\n",
    "<th>&nbsp;</th><th>Caffe</th><th>Torch7</th><th>Theano</th><th>TensorFlow</th><th>Chainer</th><th>MXNet</th>\n",
    "</tr>\n",
    "<tr>\n",
    "<th>対応言語</th><td>C++/Python/<br>Matlab</td><td>Lua/C</td><td>Python</td><td>C/C++/<br>Python</td><td>Python</td><td>C++/Python/R/<br>Julia/Scala/…</td>\n",
    "</tr>\n",
    "<tr>\n",
    "<th>ライセンス</th><td>BSD-2</td><td>BSD</td><td>BSD</td><td>Apache2.0</td><td>MIT</td><td>Apache2.0</td>\n",
    "</tr>\n",
    "<tr>\n",
    "<th>モデルの柔軟性</th><td>△</td><td>◎</td><td>◎</td><td>◯</td><td>◎</td><td>◎</td>\n",
    "</tr>\n",
    "<tr>\n",
    "<th>GPU対応</th><td>◯</td><td>◯</td><td>◯</td><td>◯</td><td>◯</td><td>◯</td>\n",
    "</tr>\n",
    "<tr>\n",
    "<th>備考</th><td>高速<br>Caffe Model Zoo</td><td>多数の<br>アルゴリズムを<br>サポート</td><td>自動微分</td><td>自動微分<br>TensorBoard</td><td>Define by Run<br>CuPy</td><td>柔軟性<br>高効率<br>可搬性</td>\n",
    "</tr>\n",
    "</table>"
   ]
  },
  {
   "cell_type": "markdown",
   "metadata": {
    "slideshow": {
     "slide_type": "subslide"
    }
   },
   "source": [
    "## Deep Learning / Machine Learning 対応 Webサービス"
   ]
  },
  {
   "cell_type": "markdown",
   "metadata": {},
   "source": [
    "![Web Services Logos](./webservices.jpg)"
   ]
  },
  {
   "cell_type": "markdown",
   "metadata": {
    "slideshow": {
     "slide_type": "subslide"
    }
   },
   "source": [
    "### クラウド Machine Learning サービス"
   ]
  },
  {
   "cell_type": "markdown",
   "metadata": {},
   "source": [
    "+ [Amazon Machine Learning](https://aws.amazon.com/machine-learning/)\n",
    "    + [AWS](https://aws.amazon.com/) 上の機械学習PaaS。基本的な教師あり学習（分類・回帰）などに対応。\n",
    "+ [Microsoft Azure Machine Learning](https://azure.microsoft.com/services/machine-learning/)\n",
    "    + [Microsoft Azure](https://azure.microsoft.com/) 上の機械学習PaaS。目的に応じたアルゴリズムの選択・カスタマイズが可能。\n",
    "+ [Google Cloud Machine Learning](https://cloud.google.com/ml/)\n",
    "    + [Google Cloud Platform](https://cloud.google.com/) 上の機械学習PaaS。[TensorFlow](https://www.tensorflow.org/) を利用可能。\n",
    "+ [Watson Developer Cloud (on IBM Bluemix)](http://www.ibm.com/cloud-computing/bluemix/watson/)\n",
    "    + [IBM Bluemix](http://www.ibm.com/cloud-computing/bluemix/) 上の以下略。"
   ]
  },
  {
   "cell_type": "markdown",
   "metadata": {
    "slideshow": {
     "slide_type": "notes"
    }
   },
   "source": [
    "※AmazonMachineLearningのデモはありません、あしからず…。"
   ]
  },
  {
   "cell_type": "markdown",
   "metadata": {
    "slideshow": {
     "slide_type": "slide"
    }
   },
   "source": [
    "# デモ"
   ]
  },
  {
   "cell_type": "markdown",
   "metadata": {
    "slideshow": {
     "slide_type": "subslide"
    }
   },
   "source": [
    "## デモ (1): CNN の簡単な応用例"
   ]
  },
  {
   "cell_type": "markdown",
   "metadata": {
    "slideshow": {
     "slide_type": "subslide"
    }
   },
   "source": [
    "## デモ (2): RNN の簡単な応用例"
   ]
  },
  {
   "cell_type": "markdown",
   "metadata": {
    "slideshow": {
     "slide_type": "slide"
    }
   },
   "source": [
    "# まとめに変えて"
   ]
  },
  {
   "cell_type": "markdown",
   "metadata": {
    "slideshow": {
     "slide_type": "subslide"
    }
   },
   "source": [
    "## 機械学習 名古屋 勉強会 の紹介"
   ]
  },
  {
   "cell_type": "markdown",
   "metadata": {},
   "source": [
    "[![機械学習　名古屋 - connpass](MLN_connpass.jpg)](http://machine-learning.connpass.com/ \"機械学習　名古屋 - connpass\")"
   ]
  },
  {
   "cell_type": "markdown",
   "metadata": {
    "slideshow": {
     "slide_type": "notes"
    }
   },
   "source": [
    "※機械学習 名古屋 勉強会 主催（共催）してます！"
   ]
  },
  {
   "cell_type": "markdown",
   "metadata": {
    "slideshow": {
     "slide_type": "subslide"
    }
   },
   "source": [
    "## 活動実績"
   ]
  },
  {
   "cell_type": "markdown",
   "metadata": {},
   "source": [
    "+ [第1回（2015/10/03）](http://machine-learning.connpass.com/event/19347/), [第2回（2015/11/28）](http://machine-learning.connpass.com/event/21252/), [第3回（2016/04/16）](http://machine-learning.connpass.com/event/27530/), [第4回（2016/05/21）](http://machine-learning.connpass.com/event/30350/), [第5回（2016/07/02）](http://machine-learning.connpass.com/event/32748/), [第6回（2016/09/10）](http://machine-learning.connpass.com/event/37032/), [第7回（2016/10/15）](http://machine-learning.connpass.com/event/40222/)\n",
    "\t+ 第2〜6回は 講義 ＋ ミニハンズオン（＋時間が余ったら発表）。\n",
    "    + 第7回は [東建ホール](http://www.token-hall.com/) で発表大会（参加者70名！）\n",
    "\t+ 次回からはより実践的な内容に入ります（予定）！\n"
   ]
  },
  {
   "cell_type": "markdown",
   "metadata": {
    "slideshow": {
     "slide_type": "subslide"
    }
   },
   "source": [
    "## いっしょに学ぼう！"
   ]
  },
  {
   "cell_type": "markdown",
   "metadata": {},
   "source": [
    "+ 「（ビジネス等で）使える機械学習」を勉強・情報共有したい。\n",
    "+ やりたいことはあるのだけれど**どうすれば良いか分からない**。\n",
    "+ 相談する人・場所・機会が欲しい。**仲間が欲しい**。\n",
    "\n",
    "→ ぜひ、いっしょに学びましょう！"
   ]
  },
  {
   "cell_type": "markdown",
   "metadata": {
    "slideshow": {
     "slide_type": "skip"
    }
   },
   "source": [
    "## 参考"
   ]
  },
  {
   "cell_type": "markdown",
   "metadata": {
    "slideshow": {
     "slide_type": "slide"
    }
   },
   "source": [
    "## おしまい"
   ]
  },
  {
   "cell_type": "markdown",
   "metadata": {},
   "source": [
    "ご清聴ありがとうございました。"
   ]
  },
  {
   "cell_type": "code",
   "execution_count": 1,
   "metadata": {
    "collapsed": false,
    "slideshow": {
     "slide_type": "notes"
    }
   },
   "outputs": [
    {
     "data": {
      "text/html": [
       "<style>\n",
       "table.cmp-tbl{}\n",
       "table.cmp-tbl tr{}\n",
       "table.cmp-tbl tr th{text-align:center;background:#eee}\n",
       "table.cmp-tbl tr td{text-align:center}\n",
       ".reveal>.state-background,.reveal>.backgrounds>.slide-background{background-color:#ebfeff}\n",
       ".reveal .rendered_html pre,.reveal .rendered_html code{background-color:#eee}\n",
       ".reveal .rendered_html table, .reveal .rendered_html blockquote{background-color:#f8ffff}\n",
       ".reveal .rendered_html h1,.reveal .rendered_html h2,.reveal .rendered_html h3,.reveal .rendered_html h4,.reveal .rendered_html strong{color:#0f7c80}\n",
       "</style>"
      ],
      "text/plain": [
       "<IPython.core.display.HTML object>"
      ]
     },
     "execution_count": 1,
     "metadata": {},
     "output_type": "execute_result"
    }
   ],
   "source": [
    "from IPython.core.display import HTML\n",
    "HTML(r\"\"\"<style>\n",
    "table.cmp-tbl{}\n",
    "table.cmp-tbl tr{}\n",
    "table.cmp-tbl tr th{text-align:center;background:#eee}\n",
    "table.cmp-tbl tr td{text-align:center}\n",
    ".reveal>.state-background,.reveal>.backgrounds>.slide-background{background-color:#ebfeff}\n",
    ".reveal .rendered_html pre,.reveal .rendered_html code{background-color:#eee}\n",
    ".reveal .rendered_html table, .reveal .rendered_html blockquote{background-color:#f8ffff}\n",
    ".reveal .rendered_html h1,.reveal .rendered_html h2,.reveal .rendered_html h3,.reveal .rendered_html h4,.reveal .rendered_html strong{color:#0f7c80}\n",
    "</style>\"\"\")"
   ]
  }
 ],
 "metadata": {
  "celltoolbar": "Slideshow",
  "kernelspec": {
   "display_name": "Python 2",
   "language": "python",
   "name": "python2"
  },
  "language_info": {
   "codemirror_mode": {
    "name": "ipython",
    "version": 2
   },
   "file_extension": ".py",
   "mimetype": "text/x-python",
   "name": "python",
   "nbconvert_exporter": "python",
   "pygments_lexer": "ipython2",
   "version": "2.7.9"
  }
 },
 "nbformat": 4,
 "nbformat_minor": 0
}
