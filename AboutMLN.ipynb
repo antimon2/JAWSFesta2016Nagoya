{
 "cells": [
  {
   "cell_type": "markdown",
   "metadata": {
    "slideshow": {
     "slide_type": "slide"
    }
   },
   "source": [
    "# 学ぼう機械学習！<br><small>簡単なデモと実践</small>"
   ]
  },
  {
   "cell_type": "markdown",
   "metadata": {},
   "source": [
    "<p style=\"text-align:center;font-size:150%;line-height:150%\">2016/10/22 JAWS Festa 東海道 2016 in 名古屋<br>後藤 俊介 ( @antimon2 )</p>"
   ]
  },
  {
   "cell_type": "markdown",
   "metadata": {
    "slideshow": {
     "slide_type": "slide"
    }
   },
   "source": [
    "# 自己紹介"
   ]
  },
  {
   "cell_type": "markdown",
   "metadata": {
    "slideshow": {
     "slide_type": "subslide"
    }
   },
   "source": [
    "## 自己紹介1"
   ]
  },
  {
   "cell_type": "markdown",
   "metadata": {},
   "source": [
    "+ 名前：後藤 俊介\n",
    "+ 所属：有限会社 来栖川電算\n",
    "+ 言語：Python, Julia, Ruby, Scala（勉強中）, …\n",
    "+ twitter: [@antimon2](https://twitter.com/antimon2 \"あんちもん2(@antimon2)さん | Twitter\")\n",
    "+ Facebook: [antimon2](https://www.facebook.com/antimon2 \"後藤 俊介\")\n",
    "+ GitHub: [antimon2](https://github.com/antimon2/ \"antimon2 (GOTOH Shunsuke)\")"
   ]
  },
  {
   "cell_type": "markdown",
   "metadata": {
    "slideshow": {
     "slide_type": "subslide"
    }
   },
   "source": [
    "## 自己紹介2"
   ]
  },
  {
   "cell_type": "markdown",
   "metadata": {},
   "source": [
    "+ 所属コミュニティ：\n",
    "    + **[機械学習 名古屋](http://machine-learning.connpass.com/)**（共同管理者の1人）\n",
    "    + [Python東海](http://connpass.com/series/292/)\n",
    "    + [Ruby東海](https://rubytokai.doorkeeper.jp/)\n",
    "    + [『FP in Scala』読書会@名古屋](http://fp-in-scala-nagoya.connpass.com/)\n",
    "    + …"
   ]
  },
  {
   "cell_type": "markdown",
   "metadata": {
    "slideshow": {
     "slide_type": "slide"
    }
   },
   "source": [
    "# 機械学習について"
   ]
  },
  {
   "cell_type": "markdown",
   "metadata": {
    "slideshow": {
     "slide_type": "notes"
    }
   },
   "source": [
    "※  \n",
    "※"
   ]
  },
  {
   "cell_type": "markdown",
   "metadata": {
    "slideshow": {
     "slide_type": "subslide"
    }
   },
   "source": [
    "## 機械学習の大分類"
   ]
  },
  {
   "cell_type": "markdown",
   "metadata": {
    "slideshow": {
     "slide_type": "subslide"
    }
   },
   "source": [
    "+ 教師あり学習 (Supervised Learning)\n",
    "    + 事前に正解データを与え、そのデータを基に学習を行う\n",
    "+ 教師なし学習 (Unsupervised Learning)\n",
    "    + 正解が不明なデータから、構造や方法を導き出す\n",
    "+ 強化学習 (Reinforcement Learning)\n",
    "    + 一連の行動を通じて報酬が最も多く得られるような方法を学習\n"
   ]
  },
  {
   "cell_type": "markdown",
   "metadata": {
    "slideshow": {
     "slide_type": "notes"
    }
   },
   "source": [
    "※他にも「半教師あり学習（ラベルありの事例となしの事例で行う学習）」等もあり。"
   ]
  },
  {
   "cell_type": "markdown",
   "metadata": {
    "slideshow": {
     "slide_type": "subslide"
    }
   },
   "source": [
    "## 教師あり学習"
   ]
  },
  {
   "cell_type": "markdown",
   "metadata": {
    "slideshow": {
     "slide_type": "subslide"
    }
   },
   "source": [
    "+ 主なアルゴリズム分類：\n",
    "    + 回帰 (Regression)\n",
    "    + 分類 (Classification)\n",
    "+ 主な手法：\n",
    "    + 線形回帰 / 重回帰 / ロジスティック回帰\n",
    "    + SVM (SVR / SVC)\n",
    "    + 決定木 / ランダムフォレスト\n",
    "    + ニューラルネットワーク etc.\n"
   ]
  },
  {
   "cell_type": "markdown",
   "metadata": {
    "slideshow": {
     "slide_type": "subslide"
    }
   },
   "source": [
    "## 教師なし学習"
   ]
  },
  {
   "cell_type": "markdown",
   "metadata": {
    "slideshow": {
     "slide_type": "subslide"
    }
   },
   "source": [
    "+ 主なアルゴリズム分類：\n",
    "    + クラスタリング (Clustering)\n",
    "    + 次元削減 (Dimensionality Reduction)\n",
    "+ 主な手法：\n",
    "    + K-means\n",
    "    + 混合ガウスモデル (GMM)\n",
    "    + 主成分分析 (PCA) / 独立成分分析 (ICA) etc.\n"
   ]
  },
  {
   "cell_type": "markdown",
   "metadata": {
    "slideshow": {
     "slide_type": "notes"
    }
   },
   "source": [
    "※異常検知、レコメンデーション は応用例。"
   ]
  },
  {
   "cell_type": "markdown",
   "metadata": {
    "slideshow": {
     "slide_type": "subslide"
    }
   },
   "source": [
    "[![ML Map by scikit-learn](http://scikit-learn.org/stable/_static/ml_map.png)](http://scikit-learn.org/stable/tutorial/machine_learning_map/)"
   ]
  },
  {
   "cell_type": "markdown",
   "metadata": {
    "slideshow": {
     "slide_type": "notes"
    }
   },
   "source": [
    "※この図は scikit-learn のドキュメントにある図。  \n",
    "  上半分が教師あり学習（regression/classification）、下半分が教師なし学習（clustering/dimensionality reduction）"
   ]
  },
  {
   "cell_type": "markdown",
   "metadata": {
    "slideshow": {
     "slide_type": "slide"
    }
   },
   "source": [
    "# 深層学習（Deep Learning）について"
   ]
  },
  {
   "cell_type": "markdown",
   "metadata": {
    "slideshow": {
     "slide_type": "subslide"
    }
   },
   "source": [
    "## Deep Learning とは"
   ]
  },
  {
   "cell_type": "markdown",
   "metadata": {},
   "source": [
    "+ 多層構造のニューラルネット（ディープニューラルネットワーク、DNN）を用いた **機械学習**\n",
    "+ …"
   ]
  },
  {
   "cell_type": "markdown",
   "metadata": {
    "slideshow": {
     "slide_type": "notes"
    }
   },
   "source": [
    "※DeepLearning を表す略語として DNN がよく用いられる。"
   ]
  },
  {
   "cell_type": "markdown",
   "metadata": {},
   "source": [
    "![Framework Logos](./frameworklogos.png)"
   ]
  },
  {
   "cell_type": "markdown",
   "metadata": {
    "slideshow": {
     "slide_type": "slide"
    }
   },
   "source": [
    "# まとめ"
   ]
  },
  {
   "cell_type": "markdown",
   "metadata": {
    "slideshow": {
     "slide_type": "skip"
    }
   },
   "source": [
    "## 参考"
   ]
  },
  {
   "cell_type": "markdown",
   "metadata": {
    "slideshow": {
     "slide_type": "slide"
    }
   },
   "source": [
    "## おしまい"
   ]
  },
  {
   "cell_type": "markdown",
   "metadata": {},
   "source": [
    "ご清聴ありがとうございました。"
   ]
  },
  {
   "cell_type": "code",
   "execution_count": 1,
   "metadata": {
    "collapsed": false,
    "slideshow": {
     "slide_type": "notes"
    }
   },
   "outputs": [
    {
     "data": {
      "text/html": [
       "<style>\n",
       ".reveal>.state-background,.reveal>.backgrounds>.slide-background{background-color:#ebfeff}\n",
       ".reveal .rendered_html pre,.reveal .rendered_html code{background-color:#eee}\n",
       ".reveal .rendered_html table, .reveal .rendered_html blockquote{background-color:#f8ffff}\n",
       ".reveal .rendered_html h1,.reveal .rendered_html h2,.reveal .rendered_html h3,.reveal .rendered_html h4,.reveal .rendered_html strong{color:#0f7c80}\n",
       "</style>"
      ],
      "text/plain": [
       "<IPython.core.display.HTML object>"
      ]
     },
     "execution_count": 1,
     "metadata": {},
     "output_type": "execute_result"
    }
   ],
   "source": [
    "from IPython.core.display import HTML\n",
    "HTML(r\"\"\"<style>\n",
    ".reveal>.state-background,.reveal>.backgrounds>.slide-background{background-color:#ebfeff}\n",
    ".reveal .rendered_html pre,.reveal .rendered_html code{background-color:#eee}\n",
    ".reveal .rendered_html table, .reveal .rendered_html blockquote{background-color:#f8ffff}\n",
    ".reveal .rendered_html h1,.reveal .rendered_html h2,.reveal .rendered_html h3,.reveal .rendered_html h4,.reveal .rendered_html strong{color:#0f7c80}\n",
    "</style>\"\"\")"
   ]
  }
 ],
 "metadata": {
  "celltoolbar": "Slideshow",
  "kernelspec": {
   "display_name": "Python 2",
   "language": "python",
   "name": "python2"
  },
  "language_info": {
   "codemirror_mode": {
    "name": "ipython",
    "version": 2
   },
   "file_extension": ".py",
   "mimetype": "text/x-python",
   "name": "python",
   "nbconvert_exporter": "python",
   "pygments_lexer": "ipython2",
   "version": "2.7.9"
  }
 },
 "nbformat": 4,
 "nbformat_minor": 0
}
